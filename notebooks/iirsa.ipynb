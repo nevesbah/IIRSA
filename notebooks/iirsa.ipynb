{
 "cells": [
  {
   "cell_type": "markdown",
   "metadata": {
    "colab_type": "text",
    "id": "view-in-github"
   },
   "source": [
    "<a href=\"https://colab.research.google.com/github/nevesbah/iirsa/blob/main/notebooks/iirsa.ipynb\" target=\"_parent\"><img src=\"https://colab.research.google.com/assets/colab-badge.svg\" alt=\"Open In Colab\"/></a>"
   ]
  },
  {
   "cell_type": "code",
   "execution_count": 10,
   "metadata": {
    "id": "RNpIk5C-T5q0"
   },
   "outputs": [],
   "source": [
    "import numpy as np\n",
    "import pandas as pd\n",
    "import os"
   ]
  },
  {
   "cell_type": "code",
   "execution_count": 44,
   "metadata": {},
   "outputs": [
    {
     "name": "stdout",
     "output_type": "stream",
     "text": [
      "     inicio  fim_x          eixo_x codigo_x  \\\n",
      "155     NaN    NaN  Mercosur-Chile    MCC48   \n",
      "156     NaN    NaN  Mercosur-Chile    MCC52   \n",
      "157     NaN    NaN  Mercosur-Chile    MCC41   \n",
      "158     NaN    NaN     Capricornio    CAP06   \n",
      "159     NaN    NaN  Mercosur-Chile    MCC61   \n",
      "\n",
      "                                          nome_projeto grupo_x    etapa_x  \\\n",
      "155            PUERTO TERRESTRE LOS SAUCES (LOS ANDES)     G03  CONCLUIDO   \n",
      "156  RECONSTRUCCIÓN Y AMPLIACIÓN DE LA RUTA NACIONA...     G04  CONCLUIDO   \n",
      "157  RUTA NACIONAL N° 7: CONSTRUCCIÓN DE VARIANTE F...     G03  CONCLUIDO   \n",
      "158  RUTA NACIONAL N° 81: PAVIMENTACIÓN LAS LOMITAS...     G01  CONCLUIDO   \n",
      "159                      SISTEMA DE ITAIPÚ (EXISTENTE)     G05  CONCLUIDO   \n",
      "\n",
      "     investimento_total_uss_x            pais_x fonte_investimento_x  ...  \\\n",
      "155                  61000000             CHILE              Privado  ...   \n",
      "156                  40000000         ARGENTINA     Tesouro Nacional  ...   \n",
      "157                  30000000         ARGENTINA     Tesouro Nacional  ...   \n",
      "158                 100000000         ARGENTINA                  CAF  ...   \n",
      "159               16000000000  BRASIL, PARAGUAY           Binacional  ...   \n",
      "\n",
      "    FONPLATA FOCEM     PRIVADO PÚBLICO BANCO MUNDIAL  EU VARIOS  \\\n",
      "155      NaN   NaN  61000000.0     NaN           NaN NaN    NaN   \n",
      "156      NaN   NaN         NaN     NaN           NaN NaN    NaN   \n",
      "157      NaN   NaN         NaN     NaN           NaN NaN    NaN   \n",
      "158      NaN   NaN         NaN     NaN           NaN NaN    NaN   \n",
      "159      NaN   NaN         NaN     NaN           NaN NaN    NaN   \n",
      "\n",
      "    TESOURO MUNICIPAL  BNDES TESOURO N. BR  \n",
      "155               NaN    NaN           NaN  \n",
      "156               NaN    NaN           NaN  \n",
      "157               NaN    NaN           NaN  \n",
      "158               NaN    NaN           NaN  \n",
      "159               NaN    NaN           NaN  \n",
      "\n",
      "[5 rows x 36 columns]\n"
     ]
    }
   ],
   "source": [
    "diretorio = \"/home/lantri_rafael/codigo/iirsa/bd\"\n",
    "arqs = sorted(os.listdir(diretorio))\n",
    "dfs = []\n",
    "for arq in arqs:\n",
    "    dados = os.path.join(diretorio,arq)\n",
    "    dfs.append(dados)\n",
    "    # print(dados)\n",
    "    \n",
    "\n",
    "df1 = pd.read_excel(dfs[-1])\n",
    "df2 = pd.read_excel(dfs[-3])\n",
    "\n",
    "\n",
    "\n",
    "iirsa = pd.merge(df1, df2, how=\"outer\", left_on=\"nome_projeto\", right_on=\"nome_projeto\")\n",
    "\n",
    "print(iirsa.tail())\n",
    "\n",
    "\n",
    "\n",
    "\n",
    "\n"
   ]
  }
 ],
 "metadata": {
  "colab": {
   "authorship_tag": "ABX9TyOjMTfBv6hsS5TPmJ+KtCdM",
   "include_colab_link": true,
   "name": "iirsa.ipynb",
   "provenance": []
  },
  "kernelspec": {
   "display_name": "Python 3 (ipykernel)",
   "language": "python",
   "name": "python3"
  },
  "language_info": {
   "codemirror_mode": {
    "name": "ipython",
    "version": 3
   },
   "file_extension": ".py",
   "mimetype": "text/x-python",
   "name": "python",
   "nbconvert_exporter": "python",
   "pygments_lexer": "ipython3",
   "version": "3.10.2"
  }
 },
 "nbformat": 4,
 "nbformat_minor": 4
}
